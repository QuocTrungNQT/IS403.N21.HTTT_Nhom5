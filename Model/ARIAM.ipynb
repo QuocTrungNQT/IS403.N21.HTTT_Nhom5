{
  "nbformat": 4,
  "nbformat_minor": 0,
  "metadata": {
    "colab": {
      "provenance": []
    },
    "kernelspec": {
      "name": "python3",
      "display_name": "Python 3"
    },
    "language_info": {
      "name": "python"
    }
  },
  "cells": [
    {
      "cell_type": "code",
      "source": [
        "# Dùng thư viện yfinance để tải dataset\n",
        "import yfinance as yf\n",
        "\n",
        "start_date = '2017-12-01'\n",
        "end_date = '2023-06-10'\n",
        "symbol = 'AMZN' #  Apple Inc.\n",
        "\n",
        "data = yf.download(symbol, start=start_date, end=end_date)\n",
        "data.to_csv('AMZN_stock_data.csv')"
      ],
      "metadata": {
        "colab": {
          "base_uri": "https://localhost:8080/"
        },
        "id": "25Wqwgphw9Hk",
        "outputId": "0e1518bd-7f86-4609-b966-f74ad046aa4f"
      },
      "execution_count": 44,
      "outputs": [
        {
          "output_type": "stream",
          "name": "stdout",
          "text": [
            "\r[*********************100%***********************]  1 of 1 completed\n"
          ]
        }
      ]
    },
    {
      "cell_type": "code",
      "source": [
        "# Xem data\n",
        "data"
      ],
      "metadata": {
        "colab": {
          "base_uri": "https://localhost:8080/",
          "height": 455
        },
        "id": "DewQquJ1zXi_",
        "outputId": "f428e5c4-a6cc-4565-c44c-e701d3486ea4"
      },
      "execution_count": 45,
      "outputs": [
        {
          "output_type": "execute_result",
          "data": {
            "text/plain": [
              "                  Open        High         Low       Close   Adj Close  \\\n",
              "Date                                                                     \n",
              "2017-12-01   58.602501   58.982498   57.599998   58.117500   58.117500   \n",
              "2017-12-04   58.692501   58.759998   56.400002   56.697498   56.697498   \n",
              "2017-12-05   56.412998   57.963501   56.237000   57.078499   57.078499   \n",
              "2017-12-06   56.899502   57.794498   56.804001   57.617500   57.617500   \n",
              "2017-12-07   57.829498   58.159500   57.549999   57.989498   57.989498   \n",
              "...                ...         ...         ...         ...         ...   \n",
              "2023-06-05  123.360001  125.800003  123.029999  125.300003  125.300003   \n",
              "2023-06-06  125.070000  127.400002  125.000000  126.610001  126.610001   \n",
              "2023-06-07  127.010002  127.370003  120.629997  121.230003  121.230003   \n",
              "2023-06-08  123.010002  125.629997  122.260002  124.250000  124.250000   \n",
              "2023-06-09  124.080002  125.800003  123.190002  123.430000  123.430000   \n",
              "\n",
              "               Volume  \n",
              "Date                   \n",
              "2017-12-01   82142000  \n",
              "2017-12-04  118638000  \n",
              "2017-12-05   81596000  \n",
              "2017-12-06   57066000  \n",
              "2017-12-07   50232000  \n",
              "...               ...  \n",
              "2023-06-05   47950100  \n",
              "2023-06-06   45695200  \n",
              "2023-06-07   95663300  \n",
              "2023-06-08   62159300  \n",
              "2023-06-09   51330000  \n",
              "\n",
              "[1389 rows x 6 columns]"
            ],
            "text/html": [
              "\n",
              "  <div id=\"df-ed67f8a0-18a7-474b-a945-c130c1eb89cc\">\n",
              "    <div class=\"colab-df-container\">\n",
              "      <div>\n",
              "<style scoped>\n",
              "    .dataframe tbody tr th:only-of-type {\n",
              "        vertical-align: middle;\n",
              "    }\n",
              "\n",
              "    .dataframe tbody tr th {\n",
              "        vertical-align: top;\n",
              "    }\n",
              "\n",
              "    .dataframe thead th {\n",
              "        text-align: right;\n",
              "    }\n",
              "</style>\n",
              "<table border=\"1\" class=\"dataframe\">\n",
              "  <thead>\n",
              "    <tr style=\"text-align: right;\">\n",
              "      <th></th>\n",
              "      <th>Open</th>\n",
              "      <th>High</th>\n",
              "      <th>Low</th>\n",
              "      <th>Close</th>\n",
              "      <th>Adj Close</th>\n",
              "      <th>Volume</th>\n",
              "    </tr>\n",
              "    <tr>\n",
              "      <th>Date</th>\n",
              "      <th></th>\n",
              "      <th></th>\n",
              "      <th></th>\n",
              "      <th></th>\n",
              "      <th></th>\n",
              "      <th></th>\n",
              "    </tr>\n",
              "  </thead>\n",
              "  <tbody>\n",
              "    <tr>\n",
              "      <th>2017-12-01</th>\n",
              "      <td>58.602501</td>\n",
              "      <td>58.982498</td>\n",
              "      <td>57.599998</td>\n",
              "      <td>58.117500</td>\n",
              "      <td>58.117500</td>\n",
              "      <td>82142000</td>\n",
              "    </tr>\n",
              "    <tr>\n",
              "      <th>2017-12-04</th>\n",
              "      <td>58.692501</td>\n",
              "      <td>58.759998</td>\n",
              "      <td>56.400002</td>\n",
              "      <td>56.697498</td>\n",
              "      <td>56.697498</td>\n",
              "      <td>118638000</td>\n",
              "    </tr>\n",
              "    <tr>\n",
              "      <th>2017-12-05</th>\n",
              "      <td>56.412998</td>\n",
              "      <td>57.963501</td>\n",
              "      <td>56.237000</td>\n",
              "      <td>57.078499</td>\n",
              "      <td>57.078499</td>\n",
              "      <td>81596000</td>\n",
              "    </tr>\n",
              "    <tr>\n",
              "      <th>2017-12-06</th>\n",
              "      <td>56.899502</td>\n",
              "      <td>57.794498</td>\n",
              "      <td>56.804001</td>\n",
              "      <td>57.617500</td>\n",
              "      <td>57.617500</td>\n",
              "      <td>57066000</td>\n",
              "    </tr>\n",
              "    <tr>\n",
              "      <th>2017-12-07</th>\n",
              "      <td>57.829498</td>\n",
              "      <td>58.159500</td>\n",
              "      <td>57.549999</td>\n",
              "      <td>57.989498</td>\n",
              "      <td>57.989498</td>\n",
              "      <td>50232000</td>\n",
              "    </tr>\n",
              "    <tr>\n",
              "      <th>...</th>\n",
              "      <td>...</td>\n",
              "      <td>...</td>\n",
              "      <td>...</td>\n",
              "      <td>...</td>\n",
              "      <td>...</td>\n",
              "      <td>...</td>\n",
              "    </tr>\n",
              "    <tr>\n",
              "      <th>2023-06-05</th>\n",
              "      <td>123.360001</td>\n",
              "      <td>125.800003</td>\n",
              "      <td>123.029999</td>\n",
              "      <td>125.300003</td>\n",
              "      <td>125.300003</td>\n",
              "      <td>47950100</td>\n",
              "    </tr>\n",
              "    <tr>\n",
              "      <th>2023-06-06</th>\n",
              "      <td>125.070000</td>\n",
              "      <td>127.400002</td>\n",
              "      <td>125.000000</td>\n",
              "      <td>126.610001</td>\n",
              "      <td>126.610001</td>\n",
              "      <td>45695200</td>\n",
              "    </tr>\n",
              "    <tr>\n",
              "      <th>2023-06-07</th>\n",
              "      <td>127.010002</td>\n",
              "      <td>127.370003</td>\n",
              "      <td>120.629997</td>\n",
              "      <td>121.230003</td>\n",
              "      <td>121.230003</td>\n",
              "      <td>95663300</td>\n",
              "    </tr>\n",
              "    <tr>\n",
              "      <th>2023-06-08</th>\n",
              "      <td>123.010002</td>\n",
              "      <td>125.629997</td>\n",
              "      <td>122.260002</td>\n",
              "      <td>124.250000</td>\n",
              "      <td>124.250000</td>\n",
              "      <td>62159300</td>\n",
              "    </tr>\n",
              "    <tr>\n",
              "      <th>2023-06-09</th>\n",
              "      <td>124.080002</td>\n",
              "      <td>125.800003</td>\n",
              "      <td>123.190002</td>\n",
              "      <td>123.430000</td>\n",
              "      <td>123.430000</td>\n",
              "      <td>51330000</td>\n",
              "    </tr>\n",
              "  </tbody>\n",
              "</table>\n",
              "<p>1389 rows × 6 columns</p>\n",
              "</div>\n",
              "      <button class=\"colab-df-convert\" onclick=\"convertToInteractive('df-ed67f8a0-18a7-474b-a945-c130c1eb89cc')\"\n",
              "              title=\"Convert this dataframe to an interactive table.\"\n",
              "              style=\"display:none;\">\n",
              "        \n",
              "  <svg xmlns=\"http://www.w3.org/2000/svg\" height=\"24px\"viewBox=\"0 0 24 24\"\n",
              "       width=\"24px\">\n",
              "    <path d=\"M0 0h24v24H0V0z\" fill=\"none\"/>\n",
              "    <path d=\"M18.56 5.44l.94 2.06.94-2.06 2.06-.94-2.06-.94-.94-2.06-.94 2.06-2.06.94zm-11 1L8.5 8.5l.94-2.06 2.06-.94-2.06-.94L8.5 2.5l-.94 2.06-2.06.94zm10 10l.94 2.06.94-2.06 2.06-.94-2.06-.94-.94-2.06-.94 2.06-2.06.94z\"/><path d=\"M17.41 7.96l-1.37-1.37c-.4-.4-.92-.59-1.43-.59-.52 0-1.04.2-1.43.59L10.3 9.45l-7.72 7.72c-.78.78-.78 2.05 0 2.83L4 21.41c.39.39.9.59 1.41.59.51 0 1.02-.2 1.41-.59l7.78-7.78 2.81-2.81c.8-.78.8-2.07 0-2.86zM5.41 20L4 18.59l7.72-7.72 1.47 1.35L5.41 20z\"/>\n",
              "  </svg>\n",
              "      </button>\n",
              "      \n",
              "  <style>\n",
              "    .colab-df-container {\n",
              "      display:flex;\n",
              "      flex-wrap:wrap;\n",
              "      gap: 12px;\n",
              "    }\n",
              "\n",
              "    .colab-df-convert {\n",
              "      background-color: #E8F0FE;\n",
              "      border: none;\n",
              "      border-radius: 50%;\n",
              "      cursor: pointer;\n",
              "      display: none;\n",
              "      fill: #1967D2;\n",
              "      height: 32px;\n",
              "      padding: 0 0 0 0;\n",
              "      width: 32px;\n",
              "    }\n",
              "\n",
              "    .colab-df-convert:hover {\n",
              "      background-color: #E2EBFA;\n",
              "      box-shadow: 0px 1px 2px rgba(60, 64, 67, 0.3), 0px 1px 3px 1px rgba(60, 64, 67, 0.15);\n",
              "      fill: #174EA6;\n",
              "    }\n",
              "\n",
              "    [theme=dark] .colab-df-convert {\n",
              "      background-color: #3B4455;\n",
              "      fill: #D2E3FC;\n",
              "    }\n",
              "\n",
              "    [theme=dark] .colab-df-convert:hover {\n",
              "      background-color: #434B5C;\n",
              "      box-shadow: 0px 1px 3px 1px rgba(0, 0, 0, 0.15);\n",
              "      filter: drop-shadow(0px 1px 2px rgba(0, 0, 0, 0.3));\n",
              "      fill: #FFFFFF;\n",
              "    }\n",
              "  </style>\n",
              "\n",
              "      <script>\n",
              "        const buttonEl =\n",
              "          document.querySelector('#df-ed67f8a0-18a7-474b-a945-c130c1eb89cc button.colab-df-convert');\n",
              "        buttonEl.style.display =\n",
              "          google.colab.kernel.accessAllowed ? 'block' : 'none';\n",
              "\n",
              "        async function convertToInteractive(key) {\n",
              "          const element = document.querySelector('#df-ed67f8a0-18a7-474b-a945-c130c1eb89cc');\n",
              "          const dataTable =\n",
              "            await google.colab.kernel.invokeFunction('convertToInteractive',\n",
              "                                                     [key], {});\n",
              "          if (!dataTable) return;\n",
              "\n",
              "          const docLinkHtml = 'Like what you see? Visit the ' +\n",
              "            '<a target=\"_blank\" href=https://colab.research.google.com/notebooks/data_table.ipynb>data table notebook</a>'\n",
              "            + ' to learn more about interactive tables.';\n",
              "          element.innerHTML = '';\n",
              "          dataTable['output_type'] = 'display_data';\n",
              "          await google.colab.output.renderOutput(dataTable, element);\n",
              "          const docLink = document.createElement('div');\n",
              "          docLink.innerHTML = docLinkHtml;\n",
              "          element.appendChild(docLink);\n",
              "        }\n",
              "      </script>\n",
              "    </div>\n",
              "  </div>\n",
              "  "
            ]
          },
          "metadata": {},
          "execution_count": 45
        }
      ]
    },
    {
      "cell_type": "code",
      "source": [
        "# 1. Các thư viện cần thiết\n",
        "import numpy as np\n",
        "import pandas as pd\n",
        "import matplotlib.pyplot as plt\n",
        "from sklearn.preprocessing import MinMaxScaler\n",
        "from sklearn.linear_model import LinearRegression\n"
      ],
      "metadata": {
        "id": "TOsoPjnYzZCW"
      },
      "execution_count": 46,
      "outputs": []
    },
    {
      "cell_type": "code",
      "source": [
        "# 2. Đọc file dữ liệu chứng khoán AAPL và chia train test validate theo tỉ lệ 7:1:2\n",
        "df = pd.read_csv('AMZN_stock_data.csv')\n",
        "df = df[['Open']]\n",
        "df = df.dropna() # Drop missing values\n",
        "df = df.reset_index(drop=True) # Reset the index\n",
        "\n",
        "# Split the data into training, testing, and validation sets\n",
        "train_size = int(0.7 * len(df))\n",
        "test_size = int(0.2 * len(df))\n",
        "val_size = len(df) - train_size - test_size\n",
        "\n",
        "train_data = df[:train_size]\n",
        "test_data = df[train_size:train_size+test_size]\n",
        "val_data = df[train_size+test_size:]"
      ],
      "metadata": {
        "id": "gJuOh8-y_Uif"
      },
      "execution_count": 47,
      "outputs": []
    },
    {
      "cell_type": "code",
      "source": [
        "!pip install pmdarima"
      ],
      "metadata": {
        "colab": {
          "base_uri": "https://localhost:8080/"
        },
        "id": "7UFsUvowFUjd",
        "outputId": "6b0f793d-456d-4abe-c2b8-dab3fb96a5db"
      },
      "execution_count": 48,
      "outputs": [
        {
          "output_type": "stream",
          "name": "stdout",
          "text": [
            "Looking in indexes: https://pypi.org/simple, https://us-python.pkg.dev/colab-wheels/public/simple/\n",
            "Requirement already satisfied: pmdarima in /usr/local/lib/python3.10/dist-packages (2.0.3)\n",
            "Requirement already satisfied: joblib>=0.11 in /usr/local/lib/python3.10/dist-packages (from pmdarima) (1.2.0)\n",
            "Requirement already satisfied: Cython!=0.29.18,!=0.29.31,>=0.29 in /usr/local/lib/python3.10/dist-packages (from pmdarima) (0.29.34)\n",
            "Requirement already satisfied: numpy>=1.21.2 in /usr/local/lib/python3.10/dist-packages (from pmdarima) (1.22.4)\n",
            "Requirement already satisfied: pandas>=0.19 in /usr/local/lib/python3.10/dist-packages (from pmdarima) (1.5.3)\n",
            "Requirement already satisfied: scikit-learn>=0.22 in /usr/local/lib/python3.10/dist-packages (from pmdarima) (1.2.2)\n",
            "Requirement already satisfied: scipy>=1.3.2 in /usr/local/lib/python3.10/dist-packages (from pmdarima) (1.10.1)\n",
            "Requirement already satisfied: statsmodels>=0.13.2 in /usr/local/lib/python3.10/dist-packages (from pmdarima) (0.13.5)\n",
            "Requirement already satisfied: urllib3 in /usr/local/lib/python3.10/dist-packages (from pmdarima) (1.26.15)\n",
            "Requirement already satisfied: setuptools!=50.0.0,>=38.6.0 in /usr/local/lib/python3.10/dist-packages (from pmdarima) (67.7.2)\n",
            "Requirement already satisfied: python-dateutil>=2.8.1 in /usr/local/lib/python3.10/dist-packages (from pandas>=0.19->pmdarima) (2.8.2)\n",
            "Requirement already satisfied: pytz>=2020.1 in /usr/local/lib/python3.10/dist-packages (from pandas>=0.19->pmdarima) (2022.7.1)\n",
            "Requirement already satisfied: threadpoolctl>=2.0.0 in /usr/local/lib/python3.10/dist-packages (from scikit-learn>=0.22->pmdarima) (3.1.0)\n",
            "Requirement already satisfied: patsy>=0.5.2 in /usr/local/lib/python3.10/dist-packages (from statsmodels>=0.13.2->pmdarima) (0.5.3)\n",
            "Requirement already satisfied: packaging>=21.3 in /usr/local/lib/python3.10/dist-packages (from statsmodels>=0.13.2->pmdarima) (23.1)\n",
            "Requirement already satisfied: six in /usr/local/lib/python3.10/dist-packages (from patsy>=0.5.2->statsmodels>=0.13.2->pmdarima) (1.16.0)\n"
          ]
        }
      ]
    },
    {
      "cell_type": "code",
      "source": [
        "# 3. Quá trình Training\n",
        "x_train = np.array(train_data.index).reshape(-1, 1)\n",
        "y_train = np.array(train_data['Open'])\n",
        "\n",
        "# Find the best ARIMA model using auto_arima\n",
        "from pmdarima.arima import auto_arima\n",
        "model = auto_arima(y_train, trace=True, error_action='ignore', suppress_warnings=True)\n",
        "\n",
        "# Fit the model\n",
        "model.fit(y_train)"
      ],
      "metadata": {
        "colab": {
          "base_uri": "https://localhost:8080/",
          "height": 387
        },
        "id": "JbQNK8an_imI",
        "outputId": "fba74c70-1ba4-4070-b6ba-102a2d9665e2"
      },
      "execution_count": 49,
      "outputs": [
        {
          "output_type": "stream",
          "name": "stdout",
          "text": [
            "Performing stepwise search to minimize aic\n",
            " ARIMA(2,1,2)(0,0,0)[0] intercept   : AIC=4465.077, Time=1.89 sec\n",
            " ARIMA(0,1,0)(0,0,0)[0] intercept   : AIC=4468.752, Time=0.04 sec\n",
            " ARIMA(1,1,0)(0,0,0)[0] intercept   : AIC=4467.206, Time=0.10 sec\n",
            " ARIMA(0,1,1)(0,0,0)[0] intercept   : AIC=4466.941, Time=0.28 sec\n",
            " ARIMA(0,1,0)(0,0,0)[0]             : AIC=4468.675, Time=0.07 sec\n",
            " ARIMA(1,1,2)(0,0,0)[0] intercept   : AIC=4467.321, Time=1.13 sec\n",
            " ARIMA(2,1,1)(0,0,0)[0] intercept   : AIC=4467.346, Time=2.72 sec\n",
            " ARIMA(3,1,2)(0,0,0)[0] intercept   : AIC=4467.121, Time=2.80 sec\n",
            " ARIMA(2,1,3)(0,0,0)[0] intercept   : AIC=4467.119, Time=3.39 sec\n",
            " ARIMA(1,1,1)(0,0,0)[0] intercept   : AIC=4466.063, Time=1.97 sec\n",
            " ARIMA(1,1,3)(0,0,0)[0] intercept   : AIC=4466.036, Time=3.11 sec\n",
            " ARIMA(3,1,1)(0,0,0)[0] intercept   : AIC=4466.375, Time=3.88 sec\n",
            " ARIMA(3,1,3)(0,0,0)[0] intercept   : AIC=4469.123, Time=3.02 sec\n",
            " ARIMA(2,1,2)(0,0,0)[0]             : AIC=4466.313, Time=1.53 sec\n",
            "\n",
            "Best model:  ARIMA(2,1,2)(0,0,0)[0] intercept\n",
            "Total fit time: 25.980 seconds\n"
          ]
        },
        {
          "output_type": "execute_result",
          "data": {
            "text/plain": [
              "ARIMA(order=(2, 1, 2), scoring_args={}, suppress_warnings=True)"
            ],
            "text/html": [
              "<style>#sk-container-id-4 {color: black;background-color: white;}#sk-container-id-4 pre{padding: 0;}#sk-container-id-4 div.sk-toggleable {background-color: white;}#sk-container-id-4 label.sk-toggleable__label {cursor: pointer;display: block;width: 100%;margin-bottom: 0;padding: 0.3em;box-sizing: border-box;text-align: center;}#sk-container-id-4 label.sk-toggleable__label-arrow:before {content: \"▸\";float: left;margin-right: 0.25em;color: #696969;}#sk-container-id-4 label.sk-toggleable__label-arrow:hover:before {color: black;}#sk-container-id-4 div.sk-estimator:hover label.sk-toggleable__label-arrow:before {color: black;}#sk-container-id-4 div.sk-toggleable__content {max-height: 0;max-width: 0;overflow: hidden;text-align: left;background-color: #f0f8ff;}#sk-container-id-4 div.sk-toggleable__content pre {margin: 0.2em;color: black;border-radius: 0.25em;background-color: #f0f8ff;}#sk-container-id-4 input.sk-toggleable__control:checked~div.sk-toggleable__content {max-height: 200px;max-width: 100%;overflow: auto;}#sk-container-id-4 input.sk-toggleable__control:checked~label.sk-toggleable__label-arrow:before {content: \"▾\";}#sk-container-id-4 div.sk-estimator input.sk-toggleable__control:checked~label.sk-toggleable__label {background-color: #d4ebff;}#sk-container-id-4 div.sk-label input.sk-toggleable__control:checked~label.sk-toggleable__label {background-color: #d4ebff;}#sk-container-id-4 input.sk-hidden--visually {border: 0;clip: rect(1px 1px 1px 1px);clip: rect(1px, 1px, 1px, 1px);height: 1px;margin: -1px;overflow: hidden;padding: 0;position: absolute;width: 1px;}#sk-container-id-4 div.sk-estimator {font-family: monospace;background-color: #f0f8ff;border: 1px dotted black;border-radius: 0.25em;box-sizing: border-box;margin-bottom: 0.5em;}#sk-container-id-4 div.sk-estimator:hover {background-color: #d4ebff;}#sk-container-id-4 div.sk-parallel-item::after {content: \"\";width: 100%;border-bottom: 1px solid gray;flex-grow: 1;}#sk-container-id-4 div.sk-label:hover label.sk-toggleable__label {background-color: #d4ebff;}#sk-container-id-4 div.sk-serial::before {content: \"\";position: absolute;border-left: 1px solid gray;box-sizing: border-box;top: 0;bottom: 0;left: 50%;z-index: 0;}#sk-container-id-4 div.sk-serial {display: flex;flex-direction: column;align-items: center;background-color: white;padding-right: 0.2em;padding-left: 0.2em;position: relative;}#sk-container-id-4 div.sk-item {position: relative;z-index: 1;}#sk-container-id-4 div.sk-parallel {display: flex;align-items: stretch;justify-content: center;background-color: white;position: relative;}#sk-container-id-4 div.sk-item::before, #sk-container-id-4 div.sk-parallel-item::before {content: \"\";position: absolute;border-left: 1px solid gray;box-sizing: border-box;top: 0;bottom: 0;left: 50%;z-index: -1;}#sk-container-id-4 div.sk-parallel-item {display: flex;flex-direction: column;z-index: 1;position: relative;background-color: white;}#sk-container-id-4 div.sk-parallel-item:first-child::after {align-self: flex-end;width: 50%;}#sk-container-id-4 div.sk-parallel-item:last-child::after {align-self: flex-start;width: 50%;}#sk-container-id-4 div.sk-parallel-item:only-child::after {width: 0;}#sk-container-id-4 div.sk-dashed-wrapped {border: 1px dashed gray;margin: 0 0.4em 0.5em 0.4em;box-sizing: border-box;padding-bottom: 0.4em;background-color: white;}#sk-container-id-4 div.sk-label label {font-family: monospace;font-weight: bold;display: inline-block;line-height: 1.2em;}#sk-container-id-4 div.sk-label-container {text-align: center;}#sk-container-id-4 div.sk-container {/* jupyter's `normalize.less` sets `[hidden] { display: none; }` but bootstrap.min.css set `[hidden] { display: none !important; }` so we also need the `!important` here to be able to override the default hidden behavior on the sphinx rendered scikit-learn.org. See: https://github.com/scikit-learn/scikit-learn/issues/21755 */display: inline-block !important;position: relative;}#sk-container-id-4 div.sk-text-repr-fallback {display: none;}</style><div id=\"sk-container-id-4\" class=\"sk-top-container\"><div class=\"sk-text-repr-fallback\"><pre> ARIMA(2,1,2)(0,0,0)[0] intercept</pre><b>In a Jupyter environment, please rerun this cell to show the HTML representation or trust the notebook. <br />On GitHub, the HTML representation is unable to render, please try loading this page with nbviewer.org.</b></div><div class=\"sk-container\" hidden><div class=\"sk-item\"><div class=\"sk-estimator sk-toggleable\"><input class=\"sk-toggleable__control sk-hidden--visually\" id=\"sk-estimator-id-4\" type=\"checkbox\" checked><label for=\"sk-estimator-id-4\" class=\"sk-toggleable__label sk-toggleable__label-arrow\">ARIMA</label><div class=\"sk-toggleable__content\"><pre> ARIMA(2,1,2)(0,0,0)[0] intercept</pre></div></div></div></div></div>"
            ]
          },
          "metadata": {},
          "execution_count": 49
        }
      ]
    },
    {
      "cell_type": "code",
      "source": [
        "# 4. Quá trình testing\n",
        "x_test = np.array(test_data.index).reshape(-1, 1)\n",
        "y_test = np.array(test_data['Open'])\n",
        "y_pred = model.predict(n_periods=len(y_test))\n",
        "\n",
        "# 5. Quá trình Validate\n",
        "x_val= np.array(val_data.index).reshape(-1, 1)\n",
        "y_val = np.array(val_data['Open'])\n",
        "y_pred_val =  model.predict(n_periods=len(y_val))"
      ],
      "metadata": {
        "id": "tq3vSOvd_xL3"
      },
      "execution_count": 50,
      "outputs": []
    },
    {
      "cell_type": "code",
      "source": [
        "# 6. Quá trình tạo index predict 30 ngày tiếp theo\n",
        "last_index =  df.index[-1]\n",
        "last_data = pd.RangeIndex(start=last_index, stop=last_index+30, step=1)\n",
        "\n",
        "# Create an array of 30 consecutive integers starting from last_index\n",
        "x_next_30_days = np.array(range(last_index+1, last_index+31)).reshape(-1, 1)\n",
        "\n",
        "# Predict the closing prices for the next 30 days\n",
        "y_next_30_days = model.predict(n_periods=len(x_next_30_days))\n",
        "\n",
        "# Print the predicted closing prices for the next 30 days\n",
        "print('Predicted opening prices for the next 30 days:')\n",
        "print(y_next_30_days)"
      ],
      "metadata": {
        "colab": {
          "base_uri": "https://localhost:8080/"
        },
        "id": "mI2qmayj_-rD",
        "outputId": "5443b1fb-c6a9-447e-c044-afe9dddf6d6a"
      },
      "execution_count": 51,
      "outputs": [
        {
          "output_type": "stream",
          "name": "stdout",
          "text": [
            "Predicted opening prices for the next 30 days:\n",
            "[163.08468052 163.42950356 163.62250823 163.92483133 164.08642993\n",
            " 164.35553242 164.49357896 164.7366149  164.85711413 165.07960408\n",
            " 165.18714182 165.39335059 165.49142421 165.68465099 165.77592307\n",
            " 165.95872438 166.04521752 166.21957839 166.30282476 166.47029034\n",
            " 166.55144647 166.71322304 166.79315794 166.95019066 167.02955342\n",
            " 167.182586   167.26185772 167.41147829 167.49101185 167.63768829]\n"
          ]
        }
      ]
    },
    {
      "cell_type": "code",
      "source": [
        "# 7. Đánh giá độ chính xác validate, test\n",
        "valid_rmse = np.sqrt(np.mean((y_pred_val - y_val)**2))\n",
        "test_rmse = np.sqrt(np.mean((y_pred - y_test)**2))\n",
        "print('Validation RMSE:', valid_rmse)\n",
        "print('Testing RMSE:', test_rmse)\n"
      ],
      "metadata": {
        "id": "JwcVt4wgAHCy",
        "colab": {
          "base_uri": "https://localhost:8080/"
        },
        "outputId": "60a9d372-07a9-42e8-a8c2-42f5a28bb942"
      },
      "execution_count": 52,
      "outputs": [
        {
          "output_type": "stream",
          "name": "stdout",
          "text": [
            "Validation RMSE: 72.61110032580896\n",
            "Testing RMSE: 51.741907992774266\n"
          ]
        }
      ]
    },
    {
      "cell_type": "code",
      "source": [
        "y_pred_val"
      ],
      "metadata": {
        "colab": {
          "base_uri": "https://localhost:8080/"
        },
        "id": "VgQcbFZNl6OV",
        "outputId": "8d2e19b1-2069-4af3-9948-146a08546ef9"
      },
      "execution_count": 53,
      "outputs": [
        {
          "output_type": "execute_result",
          "data": {
            "text/plain": [
              "array([163.08468052, 163.42950356, 163.62250823, 163.92483133,\n",
              "       164.08642993, 164.35553242, 164.49357896, 164.7366149 ,\n",
              "       164.85711413, 165.07960408, 165.18714182, 165.39335059,\n",
              "       165.49142421, 165.68465099, 165.77592307, 165.95872438,\n",
              "       166.04521752, 166.21957839, 166.30282476, 166.47029034,\n",
              "       166.55144647, 166.71322304, 166.79315794, 166.95019066,\n",
              "       167.02955342, 167.182586  , 167.26185772, 167.41147829,\n",
              "       167.49101185, 167.63768829, 167.71773891, 167.86184594,\n",
              "       167.94259458, 168.08443467, 168.16600599, 168.30582539,\n",
              "       168.38830148, 168.52630265, 168.60973355, 168.74608463,\n",
              "       168.83049642, 168.96533862, 169.05073952, 169.18419281,\n",
              "       169.27057791, 169.40274535, 169.49010021, 169.6210714 ,\n",
              "       169.70937473, 169.83922841, 169.92845416, 170.05726027,\n",
              "       170.14737921, 170.27520047, 170.36618135, 170.49307452,\n",
              "       170.58488497, 170.7109018 , 170.80350898, 170.92869702,\n",
              "       171.02206809, 171.14647126, 171.2405738 , 171.36423289,\n",
              "       171.45903508, 171.58198815, 171.67745901, 171.79974169,\n",
              "       171.89585116, 172.01749692, 172.11421596, 172.23525632,\n",
              "       172.33255696, 172.45302165, 172.55087702, 172.67079414,\n",
              "       172.76917844, 172.88857461, 172.98746315, 173.10636356,\n",
              "       173.2057327 , 173.32416129, 173.42398842, 173.54196789,\n",
              "       173.64223144, 173.75978334, 173.8604627 , 173.97760754,\n",
              "       174.07868304, 174.19544031, 174.29689318, 174.41328141,\n",
              "       174.51509378, 174.6311306 , 174.73328541, 174.8489876 ,\n",
              "       174.95146858, 175.06685212, 175.16964379, 175.28472385,\n",
              "       175.38781145, 175.50260252, 175.60597198, 175.72048782,\n",
              "       175.82412574, 175.93837947, 176.04227308, 176.15627719,\n",
              "       176.26041433, 176.37418071, 176.47854979, 176.59208976,\n",
              "       176.69667975, 176.81000409, 176.91480448, 177.02792346,\n",
              "       177.13292423, 177.24584764, 177.35103925, 177.46377639,\n",
              "       177.56914977, 177.6817095 , 177.787256  , 177.89964678,\n",
              "       178.00535816, 178.11758802, 178.22345642, 178.33553303,\n",
              "       178.44155099, 178.55348164, 178.65964204, 178.77143368,\n",
              "       178.87772974, 178.98938899, 179.09581425, 179.2073474 ,\n",
              "       179.31389571, 179.42530878, 179.53197428, 179.64327298])"
            ]
          },
          "metadata": {},
          "execution_count": 53
        }
      ]
    },
    {
      "cell_type": "code",
      "source": [
        "y_val"
      ],
      "metadata": {
        "colab": {
          "base_uri": "https://localhost:8080/"
        },
        "id": "cneLhzvYl8Rj",
        "outputId": "ef2c0fad-3b55-48d8-f67c-8e29d4910f88"
      },
      "execution_count": 54,
      "outputs": [
        {
          "output_type": "execute_result",
          "data": {
            "text/plain": [
              "array([ 95.37000275,  95.94999695,  93.97000122,  92.62000275,\n",
              "        93.23999786,  93.79000092,  93.93000031,  94.04000092,\n",
              "        92.47000122,  96.98999786,  94.48000336,  93.05000305,\n",
              "        90.5       ,  88.33999634,  89.23999786,  88.90000153,\n",
              "        89.20999908,  95.23000336,  92.5       ,  89.88999939,\n",
              "        88.26999664,  87.51000214,  85.33000183,  86.18000031,\n",
              "        85.51999664,  83.25      ,  84.97000122,  82.80000305,\n",
              "        82.87000275,  83.12000275,  85.45999908,  86.55000305,\n",
              "        85.33000183,  83.02999878,  87.45999908,  87.56999969,\n",
              "        90.93000031,  96.93000031,  94.18000031,  98.68000031,\n",
              "        97.25      ,  94.73999786,  93.86000061,  97.55999756,\n",
              "        96.93000031,  92.55999756,  98.23999786,  99.52999878,\n",
              "       101.08999634, 101.16000366, 102.52999878, 110.25      ,\n",
              "       105.26000214, 102.93000031, 101.16999817, 102.04000092,\n",
              "       101.31999969,  97.55999756,  97.84999847,  98.41000366,\n",
              "        99.08999634,  99.20999908,  97.80000305,  95.33999634,\n",
              "        95.09999847,  96.12000275,  93.52999878,  94.27999878,\n",
              "        93.13999939,  93.87000275,  91.41000366,  92.73999786,\n",
              "        95.19000244,  94.05999756,  93.59999847,  93.68000031,\n",
              "        92.66999817,  89.97000122,  93.83000183,  93.22000122,\n",
              "        95.75      ,  99.79000092,  98.41000366,  98.13999939,\n",
              "       100.44999695, 100.43000031,  98.06999969,  99.06999969,\n",
              "        98.11000061,  98.69000244, 101.55000305, 102.16000366,\n",
              "       102.30000305, 102.75      , 103.91000366, 100.75      ,\n",
              "       100.95999908, 100.80000305, 100.40000153,  98.94999695,\n",
              "       102.06999969, 103.16000366, 103.94999695, 101.58000183,\n",
              "       103.52999878, 106.09999847, 107.66000366, 104.91000366,\n",
              "       105.04000092, 108.16000366, 107.73000336, 104.94999695,\n",
              "       101.47000122, 103.73999786, 104.04000092, 104.26999664,\n",
              "       105.04000092, 105.48000336, 108.09999847, 111.02999878,\n",
              "       112.16000366, 111.15000153, 111.05000305, 114.88999939,\n",
              "       116.69000244, 118.16000366, 116.76999664, 114.26999664,\n",
              "       115.34999847, 116.62999725, 116.04000092, 122.37000275,\n",
              "       121.44999695, 120.69000244, 124.91999817, 123.36000061,\n",
              "       125.06999969, 127.01000214, 123.01000214, 124.08000183])"
            ]
          },
          "metadata": {},
          "execution_count": 54
        }
      ]
    },
    {
      "cell_type": "code",
      "source": [
        "# 8. Tính RMSE\n",
        "valid_rmse = np.sqrt(np.mean((y_pred_val - y_val)**2))\n",
        "test_rmse = np.sqrt(np.mean((y_pred - y_test)**2))\n",
        "print('Validation RMSE:', valid_rmse)\n",
        "print('Testing RMSE:', test_rmse)\n",
        "\n",
        "# 9.Vẽ hình\n",
        "plt.plot(train_data.index, train_data['Open'])\n",
        "plt.plot(test_data.index, test_data['Open'])\n",
        "plt.plot(test_data.index, y_pred)\n",
        "plt.plot(val_data.index, y_pred_val)\n",
        "plt.plot(last_data,y_next_30_days)\n",
        "plt.legend(['Train', 'Test', 'Predictions','Validate','Next30Day'])\n",
        "plt.show()"
      ],
      "metadata": {
        "colab": {
          "base_uri": "https://localhost:8080/",
          "height": 467
        },
        "id": "DE3Pge7a0EHs",
        "outputId": "08c66d77-074d-4655-930e-6db768294350"
      },
      "execution_count": 55,
      "outputs": [
        {
          "output_type": "stream",
          "name": "stdout",
          "text": [
            "Validation RMSE: 72.61110032580896\n",
            "Testing RMSE: 51.741907992774266\n"
          ]
        },
        {
          "output_type": "display_data",
          "data": {
            "text/plain": [
              "<Figure size 640x480 with 1 Axes>"
            ],
            "image/png": "[encoded data removed]"
          },
          "metadata": {}
        }
      ]
    },
    {
      "cell_type": "code",
      "source": [
        "test_data.index"
      ],
      "metadata": {
        "colab": {
          "base_uri": "https://localhost:8080/"
        },
        "id": "Eyxpcd3v7i-k",
        "outputId": "b422389e-dc4b-4cf6-d8cb-70b2a9886683"
      },
      "execution_count": 56,
      "outputs": [
        {
          "output_type": "execute_result",
          "data": {
            "text/plain": [
              "RangeIndex(start=972, stop=1249, step=1)"
            ]
          },
          "metadata": {},
          "execution_count": 56
        }
      ]
    }
  ]
}